{
 "cells": [
  {
   "cell_type": "code",
   "execution_count": 5,
   "id": "d60edab1",
   "metadata": {},
   "outputs": [
    {
     "name": "stdout",
     "output_type": "stream",
     "text": [
      "TensorFlow Version: 2.19.0\n",
      "Keras Version: 3.10.0\n"
     ]
    }
   ],
   "source": [
    "\n",
    "import tensorflow as tf\n",
    "from tensorflow import keras\n",
    "from tensorflow.keras import layers\n",
    "from tensorflow.keras.preprocessing import image_dataset_from_directory\n",
    "from tensorflow.keras.applications import EfficientNetV2B0\n",
    "import numpy as np\n",
    "import matplotlib.pyplot as plt\n",
    "from sklearn.metrics import classification_report, confusion_matrix\n",
    "import os\n",
    "import gradio as gr\n",
    "\n",
    "print(\"TensorFlow Version:\", tf.__version__)\n",
    "print(\"Keras Version:\", keras.__version__)\n",
    "\n",
    "IMG_SIZE = (128, 128)\n",
    "BATCH_SIZE = 100\n",
    "NUM_CLASSES = 10\n",
    "EPOCHS = 15\n"
   ]
  },
  {
   "cell_type": "code",
   "execution_count": 6,
   "id": "c59faac0",
   "metadata": {},
   "outputs": [
    {
     "name": "stdout",
     "output_type": "stream",
     "text": [
      "Found 2400 files belonging to 10 classes.\n",
      "Found 300 files belonging to 10 classes.\n",
      "Found 300 files belonging to 10 classes.\n",
      "Class Names: ['Battery', 'Keyboard', 'Microwave', 'Mobile', 'Mouse', 'PCB', 'Player', 'Printer', 'Television', 'Washing Machine']\n"
     ]
    }
   ],
   "source": [
    "\n",
    "base_dir = 'Dataset'\n",
    "\n",
    "train_dir = os.path.join(base_dir, 'Train')\n",
    "validation_dir = os.path.join(base_dir, 'Validation')\n",
    "test_dir = os.path.join(base_dir, 'Test')\n",
    "\n",
    "train_ds = image_dataset_from_directory(train_dir, labels='inferred', label_mode='int',\n",
    "                                        image_size=IMG_SIZE, interpolation='nearest',\n",
    "                                        batch_size=BATCH_SIZE, shuffle=True)\n",
    "\n",
    "val_ds = image_dataset_from_directory(validation_dir, labels='inferred', label_mode='int',\n",
    "                                      image_size=IMG_SIZE, interpolation='nearest',\n",
    "                                      batch_size=BATCH_SIZE, shuffle=False)\n",
    "\n",
    "test_ds = image_dataset_from_directory(test_dir, labels='inferred', label_mode='int',\n",
    "                                       image_size=IMG_SIZE, interpolation='nearest',\n",
    "                                       batch_size=BATCH_SIZE, shuffle=False)\n",
    "\n",
    "class_names = train_ds.class_names\n",
    "print(\"Class Names:\", class_names)\n",
    "\n",
    "data_augmentation = keras.Sequential([\n",
    "    layers.RandomFlip(\"horizontal\"),\n",
    "    layers.RandomRotation(0.1),\n",
    "    layers.RandomZoom(0.1),\n",
    "])\n",
    "\n",
    "preprocess_input = tf.keras.applications.efficientnet_v2.preprocess_input\n",
    "\n",
    "def prepare_data(ds):\n",
    "    ds = ds.map(lambda x, y: (preprocess_input(x), y), num_parallel_calls=tf.data.AUTOTUNE)\n",
    "    return ds.cache().prefetch(buffer_size=tf.data.AUTOTUNE)\n",
    "\n",
    "train_ds_processed = train_ds.map(lambda x, y: (data_augmentation(x), y), num_parallel_calls=tf.data.AUTOTUNE)\n",
    "train_ds_processed = prepare_data(train_ds_processed)\n",
    "val_ds_processed = prepare_data(val_ds)\n",
    "test_ds_processed = prepare_data(test_ds)\n"
   ]
  },
  {
   "cell_type": "code",
   "execution_count": 7,
   "id": "50b593ba",
   "metadata": {},
   "outputs": [
    {
     "name": "stdout",
     "output_type": "stream",
     "text": [
      "--- Training the Classification Head ---\n",
      "Epoch 1/5\n",
      "\u001b[1m24/24\u001b[0m \u001b[32m━━━━━━━━━━━━━━━━━━━━\u001b[0m\u001b[37m\u001b[0m \u001b[1m31s\u001b[0m 971ms/step - accuracy: 0.1000 - loss: 2.4590 - val_accuracy: 0.1967 - val_loss: 2.2563\n",
      "Epoch 2/5\n",
      "\u001b[1m24/24\u001b[0m \u001b[32m━━━━━━━━━━━━━━━━━━━━\u001b[0m\u001b[37m\u001b[0m \u001b[1m22s\u001b[0m 909ms/step - accuracy: 0.1752 - loss: 2.2550 - val_accuracy: 0.3067 - val_loss: 2.0724\n",
      "Epoch 3/5\n",
      "\u001b[1m24/24\u001b[0m \u001b[32m━━━━━━━━━━━━━━━━━━━━\u001b[0m\u001b[37m\u001b[0m \u001b[1m22s\u001b[0m 907ms/step - accuracy: 0.2759 - loss: 2.1077 - val_accuracy: 0.4533 - val_loss: 1.9014\n",
      "Epoch 4/5\n",
      "\u001b[1m24/24\u001b[0m \u001b[32m━━━━━━━━━━━━━━━━━━━━\u001b[0m\u001b[37m\u001b[0m \u001b[1m22s\u001b[0m 915ms/step - accuracy: 0.3574 - loss: 1.9462 - val_accuracy: 0.5567 - val_loss: 1.7438\n",
      "Epoch 5/5\n",
      "\u001b[1m24/24\u001b[0m \u001b[32m━━━━━━━━━━━━━━━━━━━━\u001b[0m\u001b[37m\u001b[0m \u001b[1m22s\u001b[0m 928ms/step - accuracy: 0.4921 - loss: 1.7900 - val_accuracy: 0.6700 - val_loss: 1.5993\n"
     ]
    }
   ],
   "source": [
    "\n",
    "base_model = EfficientNetV2B0(include_top=False, weights='imagenet',\n",
    "                              input_tensor=layers.Input(shape=(IMG_SIZE[0], IMG_SIZE[1], 3), name=\"input_layer\"))\n",
    "\n",
    "x = base_model.output\n",
    "x = layers.GlobalAveragePooling2D(name=\"global_average_pooling_2d\")(x)\n",
    "x = layers.Dropout(0.2, name=\"dropout\")(x)\n",
    "outputs = layers.Dense(NUM_CLASSES, activation=\"softmax\", name=\"predictions\")(x)\n",
    "model = keras.Model(inputs=base_model.input, outputs=outputs)\n",
    "\n",
    "for layer in base_model.layers:\n",
    "    layer.trainable = False\n",
    "\n",
    "model.compile(optimizer=keras.optimizers.Adam(learning_rate=0.0001),\n",
    "              loss=keras.losses.SparseCategoricalCrossentropy(),\n",
    "              metrics=['accuracy'])\n",
    "\n",
    "print(\"--- Training the Classification Head ---\")\n",
    "history_head = model.fit(train_ds_processed, epochs=5, validation_data=val_ds_processed)\n"
   ]
  },
  {
   "cell_type": "code",
   "execution_count": 8,
   "id": "1f6b5e84",
   "metadata": {},
   "outputs": [
    {
     "name": "stdout",
     "output_type": "stream",
     "text": [
      "--- Fine-tuning the Entire Model ---\n",
      "Epoch 1/15\n"
     ]
    },
    {
     "name": "stdout",
     "output_type": "stream",
     "text": [
      "\u001b[1m24/24\u001b[0m \u001b[32m━━━━━━━━━━━━━━━━━━━━\u001b[0m\u001b[37m\u001b[0m \u001b[1m43s\u001b[0m 1s/step - accuracy: 0.3870 - loss: 1.9011 - val_accuracy: 0.7867 - val_loss: 1.1470\n",
      "Epoch 2/15\n",
      "\u001b[1m24/24\u001b[0m \u001b[32m━━━━━━━━━━━━━━━━━━━━\u001b[0m\u001b[37m\u001b[0m \u001b[1m34s\u001b[0m 1s/step - accuracy: 0.7912 - loss: 1.0742 - val_accuracy: 0.8833 - val_loss: 0.7008\n",
      "Epoch 3/15\n",
      "\u001b[1m24/24\u001b[0m \u001b[32m━━━━━━━━━━━━━━━━━━━━\u001b[0m\u001b[37m\u001b[0m \u001b[1m34s\u001b[0m 1s/step - accuracy: 0.8801 - loss: 0.6440 - val_accuracy: 0.9000 - val_loss: 0.4776\n",
      "Epoch 4/15\n",
      "\u001b[1m24/24\u001b[0m \u001b[32m━━━━━━━━━━━━━━━━━━━━\u001b[0m\u001b[37m\u001b[0m \u001b[1m34s\u001b[0m 1s/step - accuracy: 0.9308 - loss: 0.3973 - val_accuracy: 0.9267 - val_loss: 0.3644\n",
      "Epoch 5/15\n",
      "\u001b[1m24/24\u001b[0m \u001b[32m━━━━━━━━━━━━━━━━━━━━\u001b[0m\u001b[37m\u001b[0m \u001b[1m34s\u001b[0m 1s/step - accuracy: 0.9499 - loss: 0.2510 - val_accuracy: 0.9300 - val_loss: 0.3005\n",
      "Epoch 6/15\n",
      "\u001b[1m24/24\u001b[0m \u001b[32m━━━━━━━━━━━━━━━━━━━━\u001b[0m\u001b[37m\u001b[0m \u001b[1m34s\u001b[0m 1s/step - accuracy: 0.9725 - loss: 0.1762 - val_accuracy: 0.9333 - val_loss: 0.2604\n",
      "Epoch 7/15\n",
      "\u001b[1m24/24\u001b[0m \u001b[32m━━━━━━━━━━━━━━━━━━━━\u001b[0m\u001b[37m\u001b[0m \u001b[1m34s\u001b[0m 1s/step - accuracy: 0.9806 - loss: 0.1249 - val_accuracy: 0.9333 - val_loss: 0.2352\n",
      "Epoch 8/15\n",
      "\u001b[1m24/24\u001b[0m \u001b[32m━━━━━━━━━━━━━━━━━━━━\u001b[0m\u001b[37m\u001b[0m \u001b[1m34s\u001b[0m 1s/step - accuracy: 0.9926 - loss: 0.0780 - val_accuracy: 0.9367 - val_loss: 0.2147\n",
      "Epoch 9/15\n",
      "\u001b[1m24/24\u001b[0m \u001b[32m━━━━━━━━━━━━━━━━━━━━\u001b[0m\u001b[37m\u001b[0m \u001b[1m33s\u001b[0m 1s/step - accuracy: 0.9961 - loss: 0.0632 - val_accuracy: 0.9367 - val_loss: 0.2068\n",
      "Epoch 10/15\n",
      "\u001b[1m24/24\u001b[0m \u001b[32m━━━━━━━━━━━━━━━━━━━━\u001b[0m\u001b[37m\u001b[0m \u001b[1m34s\u001b[0m 1s/step - accuracy: 0.9957 - loss: 0.0468 - val_accuracy: 0.9367 - val_loss: 0.2017\n",
      "Epoch 11/15\n",
      "\u001b[1m24/24\u001b[0m \u001b[32m━━━━━━━━━━━━━━━━━━━━\u001b[0m\u001b[37m\u001b[0m \u001b[1m34s\u001b[0m 1s/step - accuracy: 0.9958 - loss: 0.0377 - val_accuracy: 0.9400 - val_loss: 0.1931\n",
      "Epoch 12/15\n",
      "\u001b[1m24/24\u001b[0m \u001b[32m━━━━━━━━━━━━━━━━━━━━\u001b[0m\u001b[37m\u001b[0m \u001b[1m34s\u001b[0m 1s/step - accuracy: 0.9992 - loss: 0.0294 - val_accuracy: 0.9433 - val_loss: 0.1899\n",
      "Epoch 13/15\n",
      "\u001b[1m24/24\u001b[0m \u001b[32m━━━━━━━━━━━━━━━━━━━━\u001b[0m\u001b[37m\u001b[0m \u001b[1m34s\u001b[0m 1s/step - accuracy: 0.9999 - loss: 0.0219 - val_accuracy: 0.9433 - val_loss: 0.1907\n",
      "Epoch 14/15\n",
      "\u001b[1m24/24\u001b[0m \u001b[32m━━━━━━━━━━━━━━━━━━━━\u001b[0m\u001b[37m\u001b[0m \u001b[1m34s\u001b[0m 1s/step - accuracy: 0.9988 - loss: 0.0221 - val_accuracy: 0.9400 - val_loss: 0.1913\n",
      "Epoch 15/15\n",
      "\u001b[1m24/24\u001b[0m \u001b[32m━━━━━━━━━━━━━━━━━━━━\u001b[0m\u001b[37m\u001b[0m \u001b[1m34s\u001b[0m 1s/step - accuracy: 0.9971 - loss: 0.0251 - val_accuracy: 0.9400 - val_loss: 0.1855\n"
     ]
    }
   ],
   "source": [
    "\n",
    "for layer in base_model.layers:\n",
    "    layer.trainable = True\n",
    "\n",
    "for layer in base_model.layers[:100]:\n",
    "    layer.trainable = False\n",
    "\n",
    "model.compile(optimizer=keras.optimizers.Adam(learning_rate=0.0001),\n",
    "              loss=keras.losses.SparseCategoricalCrossentropy(),\n",
    "              metrics=['accuracy'])\n",
    "\n",
    "callbacks = [keras.callbacks.EarlyStopping(monitor=\"val_loss\", patience=3, restore_best_weights=True)]\n",
    "\n",
    "print(\"--- Fine-tuning the Entire Model ---\")\n",
    "history_fine_tune = model.fit(train_ds_processed, epochs=EPOCHS,\n",
    "                              validation_data=val_ds_processed, callbacks=callbacks)\n"
   ]
  },
  {
   "cell_type": "code",
   "execution_count": 9,
   "id": "9302c487",
   "metadata": {},
   "outputs": [
    {
     "name": "stdout",
     "output_type": "stream",
     "text": [
      "--- Evaluating the Model on Test Data ---\n",
      "\u001b[1m3/3\u001b[0m \u001b[32m━━━━━━━━━━━━━━━━━━━━\u001b[0m\u001b[37m\u001b[0m \u001b[1m1s\u001b[0m 354ms/step - accuracy: 0.9458 - loss: 0.1725\n",
      "Test Loss: 0.1486\n",
      "Test Accuracy: 0.9567\n",
      "\u001b[1m3/3\u001b[0m \u001b[32m━━━━━━━━━━━━━━━━━━━━\u001b[0m\u001b[37m\u001b[0m \u001b[1m2s\u001b[0m 352ms/step\n",
      "--- Classification Report ---\n",
      "                 precision    recall  f1-score   support\n",
      "\n",
      "        Battery       0.96      0.80      0.87        30\n",
      "       Keyboard       1.00      0.97      0.98        30\n",
      "      Microwave       0.88      0.97      0.92        30\n",
      "         Mobile       1.00      1.00      1.00        30\n",
      "          Mouse       0.97      1.00      0.98        30\n",
      "            PCB       0.97      0.97      0.97        30\n",
      "         Player       0.91      0.97      0.94        30\n",
      "        Printer       0.97      1.00      0.98        30\n",
      "     Television       1.00      0.90      0.95        30\n",
      "Washing Machine       0.94      1.00      0.97        30\n",
      "\n",
      "       accuracy                           0.96       300\n",
      "      macro avg       0.96      0.96      0.96       300\n",
      "   weighted avg       0.96      0.96      0.96       300\n",
      "\n",
      "--- Confusion Matrix ---\n",
      "[[24  0  1  0  0  1  2  0  0  2]\n",
      " [ 1 29  0  0  0  0  0  0  0  0]\n",
      " [ 0  0 29  0  0  0  0  1  0  0]\n",
      " [ 0  0  0 30  0  0  0  0  0  0]\n",
      " [ 0  0  0  0 30  0  0  0  0  0]\n",
      " [ 0  0  0  0  1 29  0  0  0  0]\n",
      " [ 0  0  1  0  0  0 29  0  0  0]\n",
      " [ 0  0  0  0  0  0  0 30  0  0]\n",
      " [ 0  0  2  0  0  0  1  0 27  0]\n",
      " [ 0  0  0  0  0  0  0  0  0 30]]\n"
     ]
    },
    {
     "name": "stderr",
     "output_type": "stream",
     "text": [
      "2025-07-06 14:07:43.474570: I tensorflow/core/framework/local_rendezvous.cc:407] Local rendezvous is aborting with status: OUT_OF_RANGE: End of sequence\n"
     ]
    }
   ],
   "source": [
    "\n",
    "print(\"--- Evaluating the Model on Test Data ---\")\n",
    "test_loss, test_accuracy = model.evaluate(test_ds_processed)\n",
    "print(f\"Test Loss: {test_loss:.4f}\")\n",
    "print(f\"Test Accuracy: {test_accuracy:.4f}\")\n",
    "\n",
    "y_pred_probs = model.predict(test_ds_processed)\n",
    "y_pred = np.argmax(y_pred_probs, axis=1)\n",
    "y_true = np.concatenate([y for x, y in test_ds_processed], axis=0)\n",
    "\n",
    "print(\"--- Classification Report ---\")\n",
    "print(classification_report(y_true, y_pred, target_names=class_names))\n",
    "\n",
    "print(\"--- Confusion Matrix ---\")\n",
    "print(confusion_matrix(y_true, y_pred))\n"
   ]
  },
  {
   "cell_type": "code",
   "execution_count": 10,
   "id": "989cbe6b",
   "metadata": {},
   "outputs": [
    {
     "data": {
      "image/png": "[encoded data removed]",
      "text/plain": [
       "<Figure size 1200x400 with 2 Axes>"
      ]
     },
     "metadata": {},
     "output_type": "display_data"
    }
   ],
   "source": [
    "\n",
    "plt.figure(figsize=(12, 4))\n",
    "plt.subplot(1, 2, 1)\n",
    "plt.plot(history_fine_tune.history['accuracy'], label='Training Accuracy')\n",
    "plt.plot(history_fine_tune.history['val_accuracy'], label='Validation Accuracy')\n",
    "plt.title('Training and Validation Accuracy')\n",
    "plt.xlabel('Epoch')\n",
    "plt.ylabel('Accuracy')\n",
    "plt.legend()\n",
    "\n",
    "plt.subplot(1, 2, 2)\n",
    "plt.plot(history_fine_tune.history['loss'], label='Training Loss')\n",
    "plt.plot(history_fine_tune.history['val_loss'], label='Validation Loss')\n",
    "plt.title('Training and Validation Loss')\n",
    "plt.xlabel('Epoch')\n",
    "plt.ylabel('Loss')\n",
    "plt.legend()\n",
    "plt.show()\n"
   ]
  },
  {
   "cell_type": "code",
   "execution_count": null,
   "id": "8cc2e7ce",
   "metadata": {},
   "outputs": [
    {
     "name": "stdout",
     "output_type": "stream",
     "text": [
      "* Running on local URL:  http://127.0.0.1:7860\n",
      "* To create a public link, set `share=True` in `launch()`.\n"
     ]
    },
    {
     "data": {
      "text/html": [
       "<div><iframe src=\"http://127.0.0.1:7860/\" width=\"100%\" height=\"500\" allow=\"autoplay; camera; microphone; clipboard-read; clipboard-write;\" frameborder=\"0\" allowfullscreen></iframe></div>"
      ],
      "text/plain": [
       "<IPython.core.display.HTML object>"
      ]
     },
     "metadata": {},
     "output_type": "display_data"
    },
    {
     "data": {
      "text/plain": []
     },
     "execution_count": 11,
     "metadata": {},
     "output_type": "execute_result"
    },
    {
     "name": "stdout",
     "output_type": "stream",
     "text": [
      "\u001b[1m1/1\u001b[0m \u001b[32m━━━━━━━━━━━━━━━━━━━━\u001b[0m\u001b[37m\u001b[0m \u001b[1m1s\u001b[0m 1s/step\n"
     ]
    }
   ],
   "source": [
    "\n",
    "def classify_e_waste_image(img):\n",
    "    img = tf.image.resize(tf.convert_to_tensor(img), IMG_SIZE)\n",
    "    img = preprocess_input(img)\n",
    "    img = np.expand_dims(img, axis=0)\n",
    "    predictions = model.predict(img)[0]\n",
    "    return {class_names[i]: float(predictions[i]) for i in range(NUM_CLASSES)}\n",
    "\n",
    "iface = gr.Interface(fn=classify_e_waste_image,\n",
    "                     inputs=gr.Image(type=\"numpy\"),\n",
    "                     outputs=gr.Label(num_top_classes=3),\n",
    "                     title=\"E-Waste Image Classifier\",\n",
    "                     description=\"Upload an image of e-waste to classify it into one of 10 categories.\")\n",
    "iface.launch()\n"
   ]
  },
  {
   "cell_type": "code",
   "execution_count": null,
   "id": "01594574",
   "metadata": {},
   "outputs": [],
   "source": []
  }
 ],
 "metadata": {
  "kernelspec": {
   "display_name": "venv",
   "language": "python",
   "name": "python3"
  },
  "language_info": {
   "codemirror_mode": {
    "name": "ipython",
    "version": 3
   },
   "file_extension": ".py",
   "mimetype": "text/x-python",
   "name": "python",
   "nbconvert_exporter": "python",
   "pygments_lexer": "ipython3",
   "version": "3.12.3"
  }
 },
 "nbformat": 4,
 "nbformat_minor": 5
}
